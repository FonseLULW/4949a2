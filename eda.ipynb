{
 "cells": [
  {
   "cell_type": "code",
   "execution_count": 1,
   "metadata": {
    "collapsed": true
   },
   "outputs": [],
   "source": [
    "import pandas as pd\n",
    "import matplotlib.pyplot as plt\n",
    "import seaborn as sns\n",
    "\n",
    "pd.set_option('display.max_rows', 500)\n",
    "pd.set_option('display.max_columns', 500)\n",
    "pd.set_option('display.width', 1000)"
   ]
  },
  {
   "cell_type": "code",
   "execution_count": 2,
   "outputs": [
    {
     "name": "stdout",
     "output_type": "stream",
     "text": [
      "      Churn  AccountWeeks  ContractRenewal  DataPlan  DataUsage  CustServCalls  DayMins  DayCalls  MonthlyCharge  OverageFee  RoamMins\n",
      "0         0           128                1         1       2.70              1    265.1       110           89.0        9.87      10.0\n",
      "1         0           107                1         1       3.70              1    161.6       123           82.0        9.78      13.7\n",
      "2         0           137                1         0       0.00              0    243.4       114           52.0        6.06      12.2\n",
      "3         0            84                0         0       0.00              2    299.4        71           57.0        3.10       6.6\n",
      "4         0            75                0         0       0.00              3    166.7       113           41.0        7.42      10.1\n",
      "...     ...           ...              ...       ...        ...            ...      ...       ...            ...         ...       ...\n",
      "3328      0           192                1         1       2.67              2    156.2        77           71.7       10.78       9.9\n",
      "3329      0            68                1         0       0.34              3    231.1        57           56.4        7.67       9.6\n",
      "3330      0            28                1         0       0.00              2    180.8       109           56.0       14.44      14.1\n",
      "3331      0           184                0         0       0.00              2    213.8       105           50.0        7.98       5.0\n",
      "3332      0            74                1         1       3.70              0    234.4       113          100.0       13.30      13.7\n",
      "\n",
      "[3333 rows x 11 columns]\n",
      "                  count        mean        std   min     25%     50%     75%     max\n",
      "Churn            3333.0    0.144914   0.352067   0.0    0.00    0.00    0.00    1.00\n",
      "AccountWeeks     3333.0  101.064806  39.822106   1.0   74.00  101.00  127.00  243.00\n",
      "ContractRenewal  3333.0    0.903090   0.295879   0.0    1.00    1.00    1.00    1.00\n",
      "DataPlan         3333.0    0.276628   0.447398   0.0    0.00    0.00    1.00    1.00\n",
      "DataUsage        3333.0    0.816475   1.272668   0.0    0.00    0.00    1.78    5.40\n",
      "CustServCalls    3333.0    1.562856   1.315491   0.0    1.00    1.00    2.00    9.00\n",
      "DayMins          3333.0  179.775098  54.467389   0.0  143.70  179.40  216.40  350.80\n",
      "DayCalls         3333.0  100.435644  20.069084   0.0   87.00  101.00  114.00  165.00\n",
      "MonthlyCharge    3333.0   56.305161  16.426032  14.0   45.00   53.50   66.20  111.30\n",
      "OverageFee       3333.0   10.051488   2.535712   0.0    8.33   10.07   11.77   18.19\n",
      "RoamMins         3333.0   10.237294   2.791840   0.0    8.50   10.30   12.10   20.00\n"
     ]
    }
   ],
   "source": [
    "data = pd.read_csv(\"telecom_churn.csv\")\n",
    "print(data)\n",
    "print(data.describe().T)"
   ],
   "metadata": {
    "collapsed": false,
    "pycharm": {
     "name": "#%%\n"
    }
   }
  },
  {
   "cell_type": "code",
   "execution_count": 3,
   "outputs": [
    {
     "data": {
      "text/plain": "<Figure size 432x288 with 1 Axes>",
      "image/png": "[encoded data removed]"
     },
     "metadata": {
      "needs_background": "light"
     },
     "output_type": "display_data"
    }
   ],
   "source": [
    "data['Churn'].value_counts().plot(kind='bar', xlabel=\"Leaves company?\", title=\"Customer Churn\")\n",
    "plt.show()"
   ],
   "metadata": {
    "collapsed": false,
    "pycharm": {
     "name": "#%%\n"
    }
   }
  },
  {
   "cell_type": "code",
   "execution_count": 7,
   "outputs": [
    {
     "data": {
      "text/plain": "<seaborn.axisgrid.FacetGrid at 0x234674552b0>"
     },
     "execution_count": 7,
     "metadata": {},
     "output_type": "execute_result"
    },
    {
     "data": {
      "text/plain": "<Figure size 360x360 with 1 Axes>",
      "image/png": "[encoded data removed]"
     },
     "metadata": {
      "needs_background": "light"
     },
     "output_type": "display_data"
    }
   ],
   "source": [
    "sns.catplot(x = \"Churn\",       # x variable name\n",
    "            y = \"ContractRenewal\",       # y variable name\n",
    "            data = data,     # dataframe to plot\n",
    "            kind = \"bar\")\n"
   ],
   "metadata": {
    "collapsed": false,
    "pycharm": {
     "name": "#%%\n"
    }
   }
  }
 ],
 "metadata": {
  "kernelspec": {
   "name": "pycharm-3451ef0e",
   "language": "python",
   "display_name": "PyCharm (assignment2)"
  },
  "language_info": {
   "codemirror_mode": {
    "name": "ipython",
    "version": 2
   },
   "file_extension": ".py",
   "mimetype": "text/x-python",
   "name": "python",
   "nbconvert_exporter": "python",
   "pygments_lexer": "ipython2",
   "version": "2.7.6"
  }
 },
 "nbformat": 4,
 "nbformat_minor": 0
}